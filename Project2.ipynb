{
 "cells": [
  {
   "cell_type": "markdown",
   "metadata": {},
   "source": [
    "Ayishetu Seidu\n",
    "\n",
    "Blossom Academy\n",
    "\n",
    "Data Engineering - Spring 2020"
   ]
  },
  {
   "cell_type": "code",
   "execution_count": 40,
   "metadata": {},
   "outputs": [],
   "source": [
    "import boto3\n",
    "import pandas as pd\n",
    "s3 = boto3.client('s3', region_name=\"eu-west-1\")\n",
    "import os.path"
   ]
  },
  {
   "cell_type": "code",
   "execution_count": 16,
   "metadata": {},
   "outputs": [],
   "source": [
    "#DOwnloading the file from AWS\n",
    "s3.download_file(\"blossom-data-engs\", \"free-7-million-company-dataset.zip\", 'companies.zip')"
   ]
  },
  {
   "cell_type": "code",
   "execution_count": 50,
   "metadata": {},
   "outputs": [
    {
     "name": "stderr",
     "output_type": "stream",
     "text": [
      "/home/ayisha/PythonPracticals/environments/my_env1/lib/python3.7/site-packages/IPython/core/interactiveshell.py:3058: DtypeWarning: Columns (3,9) have mixed types. Specify dtype option on import or set low_memory=False.\n",
      "  interactivity=interactivity, compiler=compiler, result=result)\n"
     ]
    }
   ],
   "source": [
    "#Read the compressed zip file as csv\n",
    "companies = pd.read_csv(\"companies.zip\", compression =\"zip\")"
   ]
  },
  {
   "cell_type": "code",
   "execution_count": 36,
   "metadata": {},
   "outputs": [],
   "source": [
    "#Remove all records with at least Null value\n",
    "com = companies.dropna()\n",
    "\n",
    "#write the results to a parquet file\n",
    "com.to_parquet(\"companies.parquet\")\n",
    "\n",
    "#write the results to a json using gzip\n",
    "com.to_json(\"companies.json.gzip\",compression=\"gzip\")"
   ]
  },
  {
   "cell_type": "code",
   "execution_count": 46,
   "metadata": {},
   "outputs": [],
   "source": [
    "#function to uload a given file to a bucket given that the file exixts\n",
    "def upload_file(filename,bucket,obj_name):\n",
    "    if os.path.isfile(filename):\n",
    "        s3.upload_file(filename,bucket,obj_name)\n",
    "    else:\n",
    "        print(\"the file you are trying to upload does not exist\")"
   ]
  },
  {
   "cell_type": "code",
   "execution_count": 47,
   "metadata": {},
   "outputs": [],
   "source": [
    "#call the upload_file method to upload your parquet file\n",
    "upload_file(\"companies.parquet\",\"blossom-de-ayisha\",\"companies.parquet\")"
   ]
  },
  {
   "cell_type": "code",
   "execution_count": 48,
   "metadata": {},
   "outputs": [],
   "source": [
    "#call the upload_file method to upload your json file\n",
    "upload_file(\"companies.json.gzip\",\"blossom-de-ayisha\",\"companies.json.gzip\")"
   ]
  },
  {
   "cell_type": "code",
   "execution_count": null,
   "metadata": {},
   "outputs": [],
   "source": []
  },
  {
   "cell_type": "markdown",
   "metadata": {},
   "source": []
  }
 ],
 "metadata": {
  "kernelspec": {
   "display_name": "Python 3",
   "language": "python",
   "name": "python3"
  },
  "language_info": {
   "codemirror_mode": {
    "name": "ipython",
    "version": 3
   },
   "file_extension": ".py",
   "mimetype": "text/x-python",
   "name": "python",
   "nbconvert_exporter": "python",
   "pygments_lexer": "ipython3",
   "version": "3.7.4"
  }
 },
 "nbformat": 4,
 "nbformat_minor": 4
}
